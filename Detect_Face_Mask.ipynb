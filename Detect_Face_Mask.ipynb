{
  "nbformat": 4,
  "nbformat_minor": 0,
  "metadata": {
    "colab": {
      "name": "Detect Face Mask",
      "provenance": [],
      "collapsed_sections": [],
      "authorship_tag": "ABX9TyP0O1P4vRxyMISkuHQ7aOcr",
      "include_colab_link": true
    },
    "kernelspec": {
      "name": "python3",
      "display_name": "Python 3"
    },
    "language_info": {
      "name": "python"
    }
  },
  "cells": [
    {
      "cell_type": "markdown",
      "metadata": {
        "id": "view-in-github",
        "colab_type": "text"
      },
      "source": [
        "<a href=\"https://colab.research.google.com/github/fabagaipo/google-colab/blob/main/Detect_Face_Mask.ipynb\" target=\"_parent\"><img src=\"https://colab.research.google.com/assets/colab-badge.svg\" alt=\"Open In Colab\"/></a>"
      ]
    },
    {
      "cell_type": "code",
      "metadata": {
        "id": "qCke6SUgp75B"
      },
      "source": [
        "# imports\n",
        "import tensorflow as tf\n",
        "from tensorflow.keras.applications.mobilenet_v2 import preprocess_input\n",
        "from tensorflow.keras.preprocessing.image import img_to_array\n",
        "from tensorflow.keras.models import load_model\n",
        "from imutils.video import VideoStream\n",
        "import numpy as np\n",
        "import imutils\n",
        "import time\n",
        "import cv2\n",
        "import os"
      ],
      "execution_count": null,
      "outputs": []
    },
    {
      "cell_type": "code",
      "metadata": {
        "id": "XhmKXya7q6Hm"
      },
      "source": [
        "def detect_and_predict_mask(frame, faceNet, maskNet):\n",
        "  (h, w) = frame.shape[:2]\n",
        "  blob = cv2.dnn.blobFromImage(frame, 1.0(224, 224),\n",
        "                               (104.0, 177.0, 123.0))"
      ],
      "execution_count": null,
      "outputs": []
    },
    {
      "cell_type": "code",
      "metadata": {
        "id": "mSqOj_0arY62"
      },
      "source": [
        "faceNet.setInput(blob)\n",
        "detections = faceNet.forward()"
      ],
      "execution_count": null,
      "outputs": []
    },
    {
      "cell_type": "code",
      "metadata": {
        "id": "WDN4qA04rgPk"
      },
      "source": [
        "print(detections.shape)"
      ],
      "execution_count": null,
      "outputs": []
    },
    {
      "cell_type": "code",
      "metadata": {
        "id": "Vn1QFStmriNq"
      },
      "source": [
        "faces = []\n",
        "locs = []\n",
        "preds = []"
      ],
      "execution_count": null,
      "outputs": []
    },
    {
      "cell_type": "code",
      "metadata": {
        "id": "KbX8mlv1rrtf"
      },
      "source": [
        "for i in range(0, detections.shape[2]):\n",
        "  confidence = detections[0, 0, i, 2]\n",
        "  if confidence > 0.5:\n",
        "    box = detections[0, 0, i, 3:7] * np.array([w, h, w, h])\n",
        "    (startX, startY, endX, endY) = box.astype('int')\n",
        "\n",
        "    (startX, startY) = (max(0, startX), max(0, startY))\n",
        "    (endX, endY) = (min(w - 1, endX), min(h - 1, endY))\n",
        "\n",
        "    face = frame[startY:endY, startX:endX]\n",
        "    face = cv2.cvtColor(face, cv2.COLO_BGR2RGB)\n",
        "    face = cv2.resize(face, (224, 224))\n",
        "    face = img_to_array(face)\n",
        "    face = preprocess_input(face)\n",
        "\n",
        "    faces.append(face)\n",
        "    locs.append((startX, startY, endX, endY))"
      ],
      "execution_count": null,
      "outputs": []
    },
    {
      "cell_type": "code",
      "source": [
        "if len(faces) > 0:\n",
        "  faces = np.array(faces, dtype=\"float32\")\n",
        "  preds = maskNet.predict(faces, batch_size=32)\n",
        "\n",
        "return(locs, preds)"
      ],
      "metadata": {
        "id": "H6Ck5n9qe_fl"
      },
      "execution_count": null,
      "outputs": []
    },
    {
      "cell_type": "code",
      "source": [
        "prototxtPath = r\"face_detector\\deploy.prototxt\"\n",
        "weightsPath = r\"face_detector\\res10_300x300_ssd_iter_140000.caffemodel\"\n",
        "faceNet = cv2.dnn.readNet(prototxtPath, weightsPath)"
      ],
      "metadata": {
        "id": "Q9ss1NO4fQgt"
      },
      "execution_count": null,
      "outputs": []
    },
    {
      "cell_type": "code",
      "source": [
        "maskNet = load_model(\"mask_detector.model\")"
      ],
      "metadata": {
        "id": "SHtVqjKFfWl-"
      },
      "execution_count": null,
      "outputs": []
    },
    {
      "cell_type": "code",
      "source": [
        "print(\"[INFO] starting video stream...\")\n",
        "vs = VideoStream(src=0).start()"
      ],
      "metadata": {
        "id": "50uc_fFFfdjD"
      },
      "execution_count": null,
      "outputs": []
    },
    {
      "cell_type": "code",
      "source": [
        "while True:\n",
        "  frame = vs.read()\n",
        "  frame = imutils.resize(frame, wwidth=400)\n",
        "\n",
        "  (locs, preds) = detect_and_predict_mask(frame, faceNet, maskNet)\n",
        "\n",
        "  for (box, pred) in zip(locs, preds):\n",
        "  (startX, startY, endX, endY) = box\n",
        "  (mask, withoutMask) = pred\n",
        "\n",
        "  label = \"Mask\" if mask > withoutMask else \"No Mask\"\n",
        "  color = (0, 255, 0) if label == \"Mask\" else (0, 0, 255)\n",
        "\n",
        "  label = \"{}: {:.2f}%\".format(label, max(mask, withoutMask) * 100)\n",
        "\n",
        "  cv2.putText(frame, label, (startX, startY = 10),\n",
        "              cv2.FONT_HERSHEY_SIMPLEX, 0.45, color, 2)\n",
        "  cv2.rectangle(frame, (startX, startY), (endX, endY), color, 2)"
      ],
      "metadata": {
        "id": "wqykJB0Ffm76"
      },
      "execution_count": null,
      "outputs": []
    },
    {
      "cell_type": "code",
      "source": [
        "cv2.imshow(\"Frame\", frame)\n",
        "key = cv2.waitKey(10) & 0xFF"
      ],
      "metadata": {
        "id": "NNr1AbKzf-iZ"
      },
      "execution_count": null,
      "outputs": []
    },
    {
      "cell_type": "code",
      "source": [
        "if key == 27:\n",
        "  break"
      ],
      "metadata": {
        "id": "pos-THJGhKS6"
      },
      "execution_count": null,
      "outputs": []
    },
    {
      "cell_type": "code",
      "source": [
        "cv2.destroyAllWindows()\n",
        "vs.stop()"
      ],
      "metadata": {
        "id": "_8YbZznlhNZF"
      },
      "execution_count": null,
      "outputs": []
    }
  ]
}